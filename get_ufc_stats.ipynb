{
 "cells": [
  {
   "cell_type": "code",
   "execution_count": 1,
   "metadata": {},
   "outputs": [],
   "source": [
    "from UFC_SCRAPER import UFC_FIGHT, UFC_FIGHTER, UFC_LINKS\n",
    "import pandas as pd"
   ]
  },
  {
   "cell_type": "code",
   "execution_count": 2,
   "metadata": {},
   "outputs": [],
   "source": [
    "# for all fights on one page \"http://ufcstats.com/statistics/events/completed?page=all\"\n",
    "\n",
    "all_events = UFC_LINKS(\"http://ufcstats.com/statistics/events/completed?page=all\")\n",
    "all_events.get_event_links()\n",
    "all_events.get_fight_n_fighter_links()\n",
    "all_events.save_links()"
   ]
  },
  {
   "cell_type": "code",
   "execution_count": 4,
   "metadata": {},
   "outputs": [
    {
     "name": "stdout",
     "output_type": "stream",
     "text": [
      "no fight stats\n",
      "no fight stats\n",
      "no fight stats\n",
      "no fight stats\n",
      "no fight stats\n",
      "no fight stats\n",
      "no fight stats\n",
      "no fight stats\n",
      "no fight stats\n",
      "no fight stats\n",
      "no fight stats\n",
      "no fight stats\n",
      "no fight stats\n",
      "no fight stats\n",
      "no fight stats\n",
      "no fight stats\n",
      "no fight stats\n",
      "no fight stats\n",
      "no fight stats\n",
      "no fight stats\n",
      "no fight stats\n"
     ]
    }
   ],
   "source": [
    "fights = []\n",
    "\n",
    "for link, location in zip(all_events.fight_links, all_events.fight_locations):\n",
    "    fight = UFC_FIGHT(fight_path = link, fight_location = location)\n",
    "    fight_stats = fight.get_fight_all()\n",
    "    if fight_stats is not None:\n",
    "        fights.append(fight_stats)"
   ]
  },
  {
   "cell_type": "code",
   "execution_count": 7,
   "metadata": {},
   "outputs": [],
   "source": [
    "df_fights = pd.DataFrame(fights)\n",
    "df_fights.to_csv(\"../data/fights\", index=False)"
   ]
  },
  {
   "cell_type": "code",
   "execution_count": 3,
   "metadata": {},
   "outputs": [],
   "source": [
    "fighters = []\n",
    "\n",
    "for i in all_events.fighter_links:\n",
    "    fighter = UFC_FIGHTER(i)\n",
    "    fighters.append(fighter.get_fighter_infos())"
   ]
  },
  {
   "cell_type": "code",
   "execution_count": 5,
   "metadata": {},
   "outputs": [],
   "source": [
    "df_fighters = pd.DataFrame(fighters)\n",
    "df_fighters.to_csv(\"../data/fighters\", index=False)"
   ]
  }
 ],
 "metadata": {
  "kernelspec": {
   "display_name": "Python 3.10.6 ('bs_scrape-env')",
   "language": "python",
   "name": "python3"
  },
  "language_info": {
   "codemirror_mode": {
    "name": "ipython",
    "version": 3
   },
   "file_extension": ".py",
   "mimetype": "text/x-python",
   "name": "python",
   "nbconvert_exporter": "python",
   "pygments_lexer": "ipython3",
   "version": "3.10.6"
  },
  "orig_nbformat": 4,
  "vscode": {
   "interpreter": {
    "hash": "83331bd09a040051b70fb733f0a57a2479d36d87e0cc58501e6244aaa5849ee2"
   }
  }
 },
 "nbformat": 4,
 "nbformat_minor": 2
}
